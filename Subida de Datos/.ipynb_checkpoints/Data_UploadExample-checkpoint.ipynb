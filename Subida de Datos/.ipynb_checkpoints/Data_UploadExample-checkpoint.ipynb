{
 "cells": [
  {
   "cell_type": "code",
   "execution_count": null,
   "metadata": {
    "collapsed": true
   },
   "outputs": [],
   "source": []
  },
  {
   "cell_type": "code",
   "execution_count": 1,
   "metadata": {
    "collapsed": false
   },
   "outputs": [],
   "source": [
    "import urllib3\n",
    "import urllib\n",
    "import simplejson as json\n",
    "import pprint\n",
    "import requests\n",
    "import os\n",
    "from time import sleep"
   ]
  },
  {
   "cell_type": "code",
   "execution_count": 52,
   "metadata": {
    "collapsed": false
   },
   "outputs": [],
   "source": [
    "Lista_organizaciones = requests.get(\"http://comovamos.eokoe.com/api/3/action/organization_list\").json()['result']\n",
    "ciudad_verbose = {'barranquilla':\"Barranquilla\", 'bogota':\"Bogotá\", 'bucaramanga':\"Bucaramanga Metropolitana\", \"cali\": \"Cali\",\"cartagena\":\"Cartagena\",\"ibague\":\"Ibagué\",\"manizales\":\"Manizales\",\"medellin\":\"Medellín\", \"pereira\":\"Pereira\",\"valledupar\":\"Valledupar\",\"yumbo\":\"Yumbo\"}"
   ]
  },
  {
   "cell_type": "code",
   "execution_count": 3,
   "metadata": {
    "collapsed": false
   },
   "outputs": [],
   "source": [
    "APIkey = Secret"
   ]
  },
  {
   "cell_type": "code",
   "execution_count": 4,
   "metadata": {
    "collapsed": false
   },
   "outputs": [],
   "source": [
    "def generate_dataset_data(ciudad, dato):\n",
    "    title_dict = {\"objetivos\":\"Recopilacion de Indicadores para la ciudad de \"+ ciudad_verbose[ciudad], \"lote\": \"Recopilacion de los resultados de las encuestas de percepción ciudadana para \"+ ciudad_verbose[ciudad],\"archivo\":\"Archivo de todos los resultados de las encuestas para \"+ ciudad_verbose[ciudad],\"anual\":\"Resultados anuales de la encuesta de percepcion ciudadana de \"+ ciudad_verbose[ciudad]}\n",
    "    nombre_dict={\"objetivos\": ciudad+\"-objetivos\",\"lote\":ciudad+\"-lote\",\"archivo\":ciudad+\"-archivo\",\"anual\":ciudad+\"-anual\"}\n",
    "    tipo_dict = {\"objetivos\":\"lote\",\"lote\":\"subjetivos\",\"anual\":\"subjetivos\",\"archivo\":\"subjetivos\"}\n",
    "    dataset_dict = {\n",
    "        \"name\": nombre_dict[dato],\n",
    "        \"title\": title_dict[dato],\n",
    "        \"author\":\"Autor Ejemplo\",\n",
    "        \"author_email\":\"example@msn.com\",\n",
    "        \"mantainer\":\"Oscar\",\n",
    "        \"mantainer_email\":\"mantainer@msn.com\",\n",
    "        \"license_id\":\"odc-by\",\n",
    "        \"tags\": [{\"name\": ciudad}, {\"name\": tipo_dict[dato]}, {\"name\": dato}],\n",
    "        #\"owner_org\": ciudad\n",
    "        \"owner_org\": ciudad\n",
    "    }\n",
    "    return dataset_dict,nombre_dict[dato]"
   ]
  },
  {
   "cell_type": "code",
   "execution_count": 5,
   "metadata": {
    "collapsed": false
   },
   "outputs": [],
   "source": [
    "def generate_dataset(ciudad,dato):\n",
    "    dataset_dict, nombre_dict = generate_dataset_data(ciudad,dato)\n",
    "    d_url = \"http://comovamos.eokoe.com/api/action/package_create\"\n",
    "    # Use the json module to dump the dictionary to a string for posting.\n",
    "    data_string = urllib.parse.quote(json.dumps(dataset_dict))\n",
    "    header = {'Authorization':APIkey,'content-type': 'application/x-www-form-urlencoded'}\n",
    "    # We'll use the package_create function to create a new dataset.\n",
    "    r = requests.post(d_url, data=data_string,headers=header)\n",
    "    # Creating a dataset requires an authorization header.\n",
    "    # Replace *** with your API key, from your user account on the CKAN site\n",
    "    # that you're creating the dataset on.\n",
    "    # Make the HTTP request.\n",
    "\n",
    "    return nombre_dict"
   ]
  },
  {
   "cell_type": "code",
   "execution_count": 6,
   "metadata": {
    "collapsed": false
   },
   "outputs": [],
   "source": [
    "def upload_city(ciudad):\n",
    "    #generar datasets\n",
    "    tipos_datos = [\"objetivos\",\"anual\",\"archivo\",\"lote\"]\n",
    "    id_datasets = generate_city_datasets(ciudad,tipos_datos)\n",
    "    print(\"Done with Datasets\")\n",
    "    #subir recursos en directorio\n",
    "    generate_city_resources(ciudad,tipos_datos,id_datasets)\n",
    "    return ciudad"
   ]
  },
  {
   "cell_type": "code",
   "execution_count": 7,
   "metadata": {
    "collapsed": true
   },
   "outputs": [],
   "source": [
    "def generate_city_datasets(ciudad,tipos_datos):\n",
    "    id_datasets = []\n",
    "    for dato in tipos_datos:\n",
    "        id_datasets.append(generate_dataset(ciudad,dato))\n",
    "        print(dato)\n",
    "    return id_datasets"
   ]
  },
  {
   "cell_type": "code",
   "execution_count": 8,
   "metadata": {
    "collapsed": false
   },
   "outputs": [],
   "source": [
    "def generate_city_resources(ciudad,tipos_datos,id_datasets):\n",
    "    nombre_dict={\"objetivos\": \"objetivos\",\"lote\":\"subjetivos-lote\",\"archivo\":\"subjetivos-archivo\",\"anual\":\"subjetivos-anual\"}\n",
    "    i = 0\n",
    "    for tipo in tipos_datos:\n",
    "        base_dir = nombre_dict[tipo]\n",
    "        file_path = ciudad+\"/\"+base_dir + \"/\"\n",
    "        files_inpath = os.listdir(file_path)\n",
    "        for file in files_inpath:\n",
    "            print(file)\n",
    "            generate_resource(id_datasets[i],file,file_path)\n",
    "            sleep(60)\n",
    "        i = i + 1"
   ]
  },
  {
   "cell_type": "code",
   "execution_count": 21,
   "metadata": {
    "collapsed": false
   },
   "outputs": [],
   "source": [
    "def generate_resource(dataset_name, resource_name, file_path):\n",
    "    full_filepath = file_path+resource_name\n",
    "    r2 = requests.post('http://comovamos.eokoe.com/api/action/resource_create',\n",
    "                  data={\"package_id\":dataset_name, \"name\":resource_name},\n",
    "                  headers={\"X-CKAN-API-Key\": APIkey},\n",
    "                  files=[('upload', open(full_filepath)),('url',\"\")])\n",
    "    print(r2.text)\n",
    "    return resource_name"
   ]
  },
  {
   "cell_type": "code",
   "execution_count": 48,
   "metadata": {
    "collapsed": false
   },
   "outputs": [
    {
     "data": {
      "text/plain": [
       "'valledupar'"
      ]
     },
     "execution_count": 48,
     "metadata": {},
     "output_type": "execute_result"
    }
   ],
   "source": [
    "Lista_organizaciones_loop.pop(0)"
   ]
  },
  {
   "cell_type": "code",
   "execution_count": 49,
   "metadata": {
    "collapsed": false
   },
   "outputs": [
    {
     "data": {
      "text/plain": [
       "['yumbo', 'ibague']"
      ]
     },
     "execution_count": 49,
     "metadata": {},
     "output_type": "execute_result"
    }
   ],
   "source": [
    "Lista_organizaciones_loop"
   ]
  },
  {
   "cell_type": "code",
   "execution_count": 50,
   "metadata": {
    "collapsed": false
   },
   "outputs": [
    {
     "name": "stdout",
     "output_type": "stream",
     "text": [
      "objetivos\n",
      "anual\n",
      "archivo\n",
      "lote\n",
      "Done with Datasets\n",
      "diccionario_indicadores_Yumbo.csv\n",
      "{\"help\": \"http://comovamos.eokoe.com/api/3/action/help_show?name=resource_create\", \"success\": true, \"result\": {\"cache_last_updated\": null, \"package_id\": \"45cad57e-dfed-4d4f-b285-f57da8ada8ca\", \"webstore_last_updated\": null, \"id\": \"336d23a5-08cd-4f96-b690-58414c5fe1db\", \"size\": null, \"state\": \"active\", \"hash\": \"\", \"description\": \"\", \"format\": \"CSV\", \"tracking_summary\": {\"total\": 0, \"recent\": 0}, \"mimetype_inner\": null, \"url_type\": \"upload\", \"mimetype\": null, \"cache_url\": null, \"name\": \"diccionario_indicadores_Yumbo.csv\", \"created\": \"2015-09-18T01:10:51.142197\", \"url\": \"http://comovamos.eokoe.com/dataset/45cad57e-dfed-4d4f-b285-f57da8ada8ca/resource/336d23a5-08cd-4f96-b690-58414c5fe1db/download/diccionarioindicadoresYumbo.csv\", \"webstore_url\": null, \"last_modified\": null, \"position\": 0, \"revision_id\": \"e6947ab7-5d79-4ff4-8f2a-ca47ab90e059\", \"resource_type\": null}}\n",
      "indicadores_Yumbo.csv\n",
      "{\"help\": \"http://comovamos.eokoe.com/api/3/action/help_show?name=resource_create\", \"success\": true, \"result\": {\"cache_last_updated\": null, \"package_id\": \"45cad57e-dfed-4d4f-b285-f57da8ada8ca\", \"webstore_last_updated\": null, \"id\": \"c6bcf706-0923-40eb-af93-6594fb73476d\", \"size\": null, \"state\": \"active\", \"hash\": \"\", \"description\": \"\", \"format\": \"CSV\", \"tracking_summary\": {\"total\": 0, \"recent\": 0}, \"mimetype_inner\": null, \"url_type\": \"upload\", \"mimetype\": null, \"cache_url\": null, \"name\": \"indicadores_Yumbo.csv\", \"created\": \"2015-09-18T01:11:52.470574\", \"url\": \"http://comovamos.eokoe.com/dataset/45cad57e-dfed-4d4f-b285-f57da8ada8ca/resource/c6bcf706-0923-40eb-af93-6594fb73476d/download/indicadoresYumbo.csv\", \"webstore_url\": null, \"last_modified\": null, \"position\": 1, \"revision_id\": \"f4eadac7-42a1-4b4c-af68-0bc3f590e3ce\", \"resource_type\": null}}\n",
      "diccionario_encuestas_Yumbo_2013.csv\n",
      "{\"help\": \"http://comovamos.eokoe.com/api/3/action/help_show?name=resource_create\", \"success\": true, \"result\": {\"cache_last_updated\": null, \"package_id\": \"f304e30d-8a6d-4848-9279-20421b4b5aeb\", \"webstore_last_updated\": null, \"id\": \"675e1dfb-d180-4ab0-bec0-dcd0a42a8b0b\", \"size\": null, \"state\": \"active\", \"hash\": \"\", \"description\": \"\", \"format\": \"CSV\", \"tracking_summary\": {\"total\": 0, \"recent\": 0}, \"mimetype_inner\": null, \"url_type\": \"upload\", \"mimetype\": null, \"cache_url\": null, \"name\": \"diccionario_encuestas_Yumbo_2013.csv\", \"created\": \"2015-09-18T01:12:54.901997\", \"url\": \"http://comovamos.eokoe.com/dataset/f304e30d-8a6d-4848-9279-20421b4b5aeb/resource/675e1dfb-d180-4ab0-bec0-dcd0a42a8b0b/download/diccionarioencuestasYumbo2013.csv\", \"webstore_url\": null, \"last_modified\": null, \"position\": 0, \"revision_id\": \"2b7f93aa-f712-4b8f-80e0-6ffbe6f55186\", \"resource_type\": null}}\n",
      "diccionario_encuestas_Yumbo_2014.csv\n",
      "{\"help\": \"http://comovamos.eokoe.com/api/3/action/help_show?name=resource_create\", \"success\": true, \"result\": {\"cache_last_updated\": null, \"package_id\": \"f304e30d-8a6d-4848-9279-20421b4b5aeb\", \"webstore_last_updated\": null, \"id\": \"99552137-a933-4718-9322-6963f29a16c2\", \"size\": null, \"state\": \"active\", \"hash\": \"\", \"description\": \"\", \"format\": \"CSV\", \"tracking_summary\": {\"total\": 0, \"recent\": 0}, \"mimetype_inner\": null, \"url_type\": \"upload\", \"mimetype\": null, \"cache_url\": null, \"name\": \"diccionario_encuestas_Yumbo_2014.csv\", \"created\": \"2015-09-18T01:13:56.418424\", \"url\": \"http://comovamos.eokoe.com/dataset/f304e30d-8a6d-4848-9279-20421b4b5aeb/resource/99552137-a933-4718-9322-6963f29a16c2/download/diccionarioencuestasYumbo2014.csv\", \"webstore_url\": null, \"last_modified\": null, \"position\": 1, \"revision_id\": \"e1143729-1bab-475d-afff-64cb005dfc8f\", \"resource_type\": null}}\n",
      "encuestas_Yumbo_2013.csv\n",
      "{\"help\": \"http://comovamos.eokoe.com/api/3/action/help_show?name=resource_create\", \"success\": true, \"result\": {\"cache_last_updated\": null, \"package_id\": \"f304e30d-8a6d-4848-9279-20421b4b5aeb\", \"webstore_last_updated\": null, \"id\": \"b9a55c36-c421-4bb5-954a-c91cc54e592a\", \"size\": null, \"state\": \"active\", \"hash\": \"\", \"description\": \"\", \"format\": \"CSV\", \"tracking_summary\": {\"total\": 0, \"recent\": 0}, \"mimetype_inner\": null, \"url_type\": \"upload\", \"mimetype\": null, \"cache_url\": null, \"name\": \"encuestas_Yumbo_2013.csv\", \"created\": \"2015-09-18T01:14:58.887348\", \"url\": \"http://comovamos.eokoe.com/dataset/f304e30d-8a6d-4848-9279-20421b4b5aeb/resource/b9a55c36-c421-4bb5-954a-c91cc54e592a/download/encuestasYumbo2013.csv\", \"webstore_url\": null, \"last_modified\": null, \"position\": 2, \"revision_id\": \"a6bba846-e399-4d98-8ab5-d321d4b380be\", \"resource_type\": null}}\n",
      "encuestas_Yumbo_2014.csv\n",
      "{\"help\": \"http://comovamos.eokoe.com/api/3/action/help_show?name=resource_create\", \"success\": true, \"result\": {\"cache_last_updated\": null, \"package_id\": \"f304e30d-8a6d-4848-9279-20421b4b5aeb\", \"webstore_last_updated\": null, \"id\": \"782f1598-72a8-4396-b7ee-ba84bb405ca8\", \"size\": null, \"state\": \"active\", \"hash\": \"\", \"description\": \"\", \"format\": \"CSV\", \"tracking_summary\": {\"total\": 0, \"recent\": 0}, \"mimetype_inner\": null, \"url_type\": \"upload\", \"mimetype\": null, \"cache_url\": null, \"name\": \"encuestas_Yumbo_2014.csv\", \"created\": \"2015-09-18T01:16:01.669978\", \"url\": \"http://comovamos.eokoe.com/dataset/f304e30d-8a6d-4848-9279-20421b4b5aeb/resource/782f1598-72a8-4396-b7ee-ba84bb405ca8/download/encuestasYumbo2014.csv\", \"webstore_url\": null, \"last_modified\": null, \"position\": 3, \"revision_id\": \"80bf0936-6bb7-44ef-bfc3-958accf15edf\", \"resource_type\": null}}\n",
      "archivo_encuestas_Yumbo_lote.csv\n",
      "{\"help\": \"http://comovamos.eokoe.com/api/3/action/help_show?name=resource_create\", \"success\": true, \"result\": {\"cache_last_updated\": null, \"package_id\": \"605923b5-21e7-4024-a2e1-b39e6eb68f8e\", \"webstore_last_updated\": null, \"id\": \"d180c0aa-90ee-447e-8606-74d96b2d1abf\", \"size\": null, \"state\": \"active\", \"hash\": \"\", \"description\": \"\", \"format\": \"CSV\", \"tracking_summary\": {\"total\": 0, \"recent\": 0}, \"mimetype_inner\": null, \"url_type\": \"upload\", \"mimetype\": null, \"cache_url\": null, \"name\": \"archivo_encuestas_Yumbo_lote.csv\", \"created\": \"2015-09-18T01:17:04.288041\", \"url\": \"http://comovamos.eokoe.com/dataset/605923b5-21e7-4024-a2e1-b39e6eb68f8e/resource/d180c0aa-90ee-447e-8606-74d96b2d1abf/download/archivoencuestasYumbolote.csv\", \"webstore_url\": null, \"last_modified\": null, \"position\": 0, \"revision_id\": \"801cbb9f-f70a-47c4-842d-7e838084dd6e\", \"resource_type\": null}}\n",
      "diccionario_archivo_encuestas_Yumbo_lote.csv\n",
      "{\"help\": \"http://comovamos.eokoe.com/api/3/action/help_show?name=resource_create\", \"success\": true, \"result\": {\"cache_last_updated\": null, \"package_id\": \"605923b5-21e7-4024-a2e1-b39e6eb68f8e\", \"webstore_last_updated\": null, \"id\": \"217d69cc-e801-4017-a52e-dd68062f284c\", \"size\": null, \"state\": \"active\", \"hash\": \"\", \"description\": \"\", \"format\": \"CSV\", \"tracking_summary\": {\"total\": 0, \"recent\": 0}, \"mimetype_inner\": null, \"url_type\": \"upload\", \"mimetype\": null, \"cache_url\": null, \"name\": \"diccionario_archivo_encuestas_Yumbo_lote.csv\", \"created\": \"2015-09-18T01:18:06.007141\", \"url\": \"http://comovamos.eokoe.com/dataset/605923b5-21e7-4024-a2e1-b39e6eb68f8e/resource/217d69cc-e801-4017-a52e-dd68062f284c/download/diccionarioarchivoencuestasYumbolote.csv\", \"webstore_url\": null, \"last_modified\": null, \"position\": 1, \"revision_id\": \"341d62b2-bed9-4500-816c-cf56aa7e409d\", \"resource_type\": null}}\n",
      "diccionario_encuestas_Yumbo_lote.csv\n",
      "{\"help\": \"http://comovamos.eokoe.com/api/3/action/help_show?name=resource_create\", \"success\": true, \"result\": {\"cache_last_updated\": null, \"package_id\": \"f866d2bc-4c94-4698-8e73-3d019a394cc6\", \"webstore_last_updated\": null, \"id\": \"ba73ff65-e726-4131-ae89-fc5db8207e08\", \"size\": null, \"state\": \"active\", \"hash\": \"\", \"description\": \"\", \"format\": \"CSV\", \"tracking_summary\": {\"total\": 0, \"recent\": 0}, \"mimetype_inner\": null, \"url_type\": \"upload\", \"mimetype\": null, \"cache_url\": null, \"name\": \"diccionario_encuestas_Yumbo_lote.csv\", \"created\": \"2015-09-18T01:19:09.336488\", \"url\": \"http://comovamos.eokoe.com/dataset/f866d2bc-4c94-4698-8e73-3d019a394cc6/resource/ba73ff65-e726-4131-ae89-fc5db8207e08/download/diccionarioencuestasYumbolote.csv\", \"webstore_url\": null, \"last_modified\": null, \"position\": 0, \"revision_id\": \"60ec0a61-1b30-4c47-a9cd-ca9a748a8af1\", \"resource_type\": null}}\n",
      "encuestas_Yumbo_lote.csv\n",
      "{\"help\": \"http://comovamos.eokoe.com/api/3/action/help_show?name=resource_create\", \"success\": true, \"result\": {\"cache_last_updated\": null, \"package_id\": \"f866d2bc-4c94-4698-8e73-3d019a394cc6\", \"webstore_last_updated\": null, \"id\": \"8a914691-2c3b-4198-91f6-3a622cfcbc3c\", \"size\": null, \"state\": \"active\", \"hash\": \"\", \"description\": \"\", \"format\": \"CSV\", \"tracking_summary\": {\"total\": 0, \"recent\": 0}, \"mimetype_inner\": null, \"url_type\": \"upload\", \"mimetype\": null, \"cache_url\": null, \"name\": \"encuestas_Yumbo_lote.csv\", \"created\": \"2015-09-18T01:20:11.098874\", \"url\": \"http://comovamos.eokoe.com/dataset/f866d2bc-4c94-4698-8e73-3d019a394cc6/resource/8a914691-2c3b-4198-91f6-3a622cfcbc3c/download/encuestasYumbolote.csv\", \"webstore_url\": null, \"last_modified\": null, \"position\": 1, \"revision_id\": \"c4f8a8a3-6972-4538-998e-12f97a220b72\", \"resource_type\": null}}\n",
      "objetivos\n",
      "anual\n",
      "archivo\n",
      "lote\n",
      "Done with Datasets\n",
      "diccionario_indicadores_Ibague.csv\n",
      "{\"help\": \"http://comovamos.eokoe.com/api/3/action/help_show?name=resource_create\", \"success\": true, \"result\": {\"cache_last_updated\": null, \"package_id\": \"fccd5a0a-05c6-43bf-b717-227575c956b4\", \"webstore_last_updated\": null, \"id\": \"bad8c872-f65b-483d-b492-17a22f8d9548\", \"size\": null, \"state\": \"active\", \"hash\": \"\", \"description\": \"\", \"format\": \"CSV\", \"tracking_summary\": {\"total\": 0, \"recent\": 0}, \"mimetype_inner\": null, \"url_type\": \"upload\", \"mimetype\": null, \"cache_url\": null, \"name\": \"diccionario_indicadores_Ibague.csv\", \"created\": \"2015-09-18T01:21:16.722946\", \"url\": \"http://comovamos.eokoe.com/dataset/fccd5a0a-05c6-43bf-b717-227575c956b4/resource/bad8c872-f65b-483d-b492-17a22f8d9548/download/diccionarioindicadoresIbague.csv\", \"webstore_url\": null, \"last_modified\": null, \"position\": 0, \"revision_id\": \"d2abd144-c85c-422b-bd8f-d251f72233f8\", \"resource_type\": null}}\n",
      "indicadores_Ibague.csv\n",
      "{\"help\": \"http://comovamos.eokoe.com/api/3/action/help_show?name=resource_create\", \"success\": true, \"result\": {\"cache_last_updated\": null, \"package_id\": \"fccd5a0a-05c6-43bf-b717-227575c956b4\", \"webstore_last_updated\": null, \"id\": \"ff23f06b-86c4-4f66-beb8-5ded6dcee378\", \"size\": null, \"state\": \"active\", \"hash\": \"\", \"description\": \"\", \"format\": \"CSV\", \"tracking_summary\": {\"total\": 0, \"recent\": 0}, \"mimetype_inner\": null, \"url_type\": \"upload\", \"mimetype\": null, \"cache_url\": null, \"name\": \"indicadores_Ibague.csv\", \"created\": \"2015-09-18T01:22:18.105225\", \"url\": \"http://comovamos.eokoe.com/dataset/fccd5a0a-05c6-43bf-b717-227575c956b4/resource/ff23f06b-86c4-4f66-beb8-5ded6dcee378/download/indicadoresIbague.csv\", \"webstore_url\": null, \"last_modified\": null, \"position\": 1, \"revision_id\": \"d5ea521d-5a1a-4274-b26d-ee659f94174c\", \"resource_type\": null}}\n",
      "diccionario_encuestas_Ibague_2010.csv\n",
      "{\"help\": \"http://comovamos.eokoe.com/api/3/action/help_show?name=resource_create\", \"success\": true, \"result\": {\"cache_last_updated\": null, \"package_id\": \"c4edbb43-afc2-491c-ac68-f4f327f679dc\", \"webstore_last_updated\": null, \"id\": \"8fe1911a-8000-484e-8bf0-5e8609a12e74\", \"size\": null, \"state\": \"active\", \"hash\": \"\", \"description\": \"\", \"format\": \"CSV\", \"tracking_summary\": {\"total\": 0, \"recent\": 0}, \"mimetype_inner\": null, \"url_type\": \"upload\", \"mimetype\": null, \"cache_url\": null, \"name\": \"diccionario_encuestas_Ibague_2010.csv\", \"created\": \"2015-09-18T01:23:20.822425\", \"url\": \"http://comovamos.eokoe.com/dataset/c4edbb43-afc2-491c-ac68-f4f327f679dc/resource/8fe1911a-8000-484e-8bf0-5e8609a12e74/download/diccionarioencuestasIbague2010.csv\", \"webstore_url\": null, \"last_modified\": null, \"position\": 0, \"revision_id\": \"1ec29d49-cf8a-4985-81a4-4fa021f55a99\", \"resource_type\": null}}\n",
      "diccionario_encuestas_Ibague_2011.csv\n",
      "{\"help\": \"http://comovamos.eokoe.com/api/3/action/help_show?name=resource_create\", \"success\": true, \"result\": {\"cache_last_updated\": null, \"package_id\": \"c4edbb43-afc2-491c-ac68-f4f327f679dc\", \"webstore_last_updated\": null, \"id\": \"6136d39c-a93c-4f12-b9d8-37a065084953\", \"size\": null, \"state\": \"active\", \"hash\": \"\", \"description\": \"\", \"format\": \"CSV\", \"tracking_summary\": {\"total\": 0, \"recent\": 0}, \"mimetype_inner\": null, \"url_type\": \"upload\", \"mimetype\": null, \"cache_url\": null, \"name\": \"diccionario_encuestas_Ibague_2011.csv\", \"created\": \"2015-09-18T01:24:22.428411\", \"url\": \"http://comovamos.eokoe.com/dataset/c4edbb43-afc2-491c-ac68-f4f327f679dc/resource/6136d39c-a93c-4f12-b9d8-37a065084953/download/diccionarioencuestasIbague2011.csv\", \"webstore_url\": null, \"last_modified\": null, \"position\": 1, \"revision_id\": \"92a04544-9128-441f-b6c9-eb44915326af\", \"resource_type\": null}}\n",
      "diccionario_encuestas_Ibague_2012.csv\n",
      "{\"help\": \"http://comovamos.eokoe.com/api/3/action/help_show?name=resource_create\", \"success\": true, \"result\": {\"cache_last_updated\": null, \"package_id\": \"c4edbb43-afc2-491c-ac68-f4f327f679dc\", \"webstore_last_updated\": null, \"id\": \"117c7033-f1fb-4e9c-86b8-9f7d29b0ea42\", \"size\": null, \"state\": \"active\", \"hash\": \"\", \"description\": \"\", \"format\": \"CSV\", \"tracking_summary\": {\"total\": 0, \"recent\": 0}, \"mimetype_inner\": null, \"url_type\": \"upload\", \"mimetype\": null, \"cache_url\": null, \"name\": \"diccionario_encuestas_Ibague_2012.csv\", \"created\": \"2015-09-18T01:25:37.704548\", \"url\": \"http://comovamos.eokoe.com/dataset/c4edbb43-afc2-491c-ac68-f4f327f679dc/resource/117c7033-f1fb-4e9c-86b8-9f7d29b0ea42/download/diccionarioencuestasIbague2012.csv\", \"webstore_url\": null, \"last_modified\": null, \"position\": 2, \"revision_id\": \"44657cc2-d448-4c6b-8c2f-8c59ac297ddf\", \"resource_type\": null}}\n",
      "diccionario_encuestas_Ibague_2013.csv\n",
      "{\"help\": \"http://comovamos.eokoe.com/api/3/action/help_show?name=resource_create\", \"success\": true, \"result\": {\"cache_last_updated\": null, \"package_id\": \"c4edbb43-afc2-491c-ac68-f4f327f679dc\", \"webstore_last_updated\": null, \"id\": \"ae4caea7-8fba-44cc-8ed9-97a0c0a8fedd\", \"size\": null, \"state\": \"active\", \"hash\": \"\", \"description\": \"\", \"format\": \"CSV\", \"tracking_summary\": {\"total\": 0, \"recent\": 0}, \"mimetype_inner\": null, \"url_type\": \"upload\", \"mimetype\": null, \"cache_url\": null, \"name\": \"diccionario_encuestas_Ibague_2013.csv\", \"created\": \"2015-09-18T01:26:42.550418\", \"url\": \"http://comovamos.eokoe.com/dataset/c4edbb43-afc2-491c-ac68-f4f327f679dc/resource/ae4caea7-8fba-44cc-8ed9-97a0c0a8fedd/download/diccionarioencuestasIbague2013.csv\", \"webstore_url\": null, \"last_modified\": null, \"position\": 3, \"revision_id\": \"a3d57d13-53a3-4628-b20a-e1927ed27848\", \"resource_type\": null}}\n",
      "diccionario_encuestas_Ibague_2014.csv\n",
      "{\"help\": \"http://comovamos.eokoe.com/api/3/action/help_show?name=resource_create\", \"success\": true, \"result\": {\"cache_last_updated\": null, \"package_id\": \"c4edbb43-afc2-491c-ac68-f4f327f679dc\", \"webstore_last_updated\": null, \"id\": \"4d8a02a1-b029-4c8c-b872-31b284f11150\", \"size\": null, \"state\": \"active\", \"hash\": \"\", \"description\": \"\", \"format\": \"CSV\", \"tracking_summary\": {\"total\": 0, \"recent\": 0}, \"mimetype_inner\": null, \"url_type\": \"upload\", \"mimetype\": null, \"cache_url\": null, \"name\": \"diccionario_encuestas_Ibague_2014.csv\", \"created\": \"2015-09-18T01:27:44.910298\", \"url\": \"http://comovamos.eokoe.com/dataset/c4edbb43-afc2-491c-ac68-f4f327f679dc/resource/4d8a02a1-b029-4c8c-b872-31b284f11150/download/diccionarioencuestasIbague2014.csv\", \"webstore_url\": null, \"last_modified\": null, \"position\": 4, \"revision_id\": \"c4b55922-9de0-48bc-bad3-57819e8d4b6b\", \"resource_type\": null}}\n",
      "encuestas_Ibague_2010.csv\n",
      "{\"help\": \"http://comovamos.eokoe.com/api/3/action/help_show?name=resource_create\", \"success\": true, \"result\": {\"cache_last_updated\": null, \"package_id\": \"c4edbb43-afc2-491c-ac68-f4f327f679dc\", \"webstore_last_updated\": null, \"id\": \"b96c91f3-661d-4cdc-acb1-f80a3638ebc9\", \"size\": null, \"state\": \"active\", \"hash\": \"\", \"description\": \"\", \"format\": \"CSV\", \"tracking_summary\": {\"total\": 0, \"recent\": 0}, \"mimetype_inner\": null, \"url_type\": \"upload\", \"mimetype\": null, \"cache_url\": null, \"name\": \"encuestas_Ibague_2010.csv\", \"created\": \"2015-09-18T01:28:47.316117\", \"url\": \"http://comovamos.eokoe.com/dataset/c4edbb43-afc2-491c-ac68-f4f327f679dc/resource/b96c91f3-661d-4cdc-acb1-f80a3638ebc9/download/encuestasIbague2010.csv\", \"webstore_url\": null, \"last_modified\": null, \"position\": 5, \"revision_id\": \"a2de8eab-441b-436a-9da7-03e9bbce0bf2\", \"resource_type\": null}}\n",
      "encuestas_Ibague_2011.csv\n",
      "{\"help\": \"http://comovamos.eokoe.com/api/3/action/help_show?name=resource_create\", \"success\": true, \"result\": {\"cache_last_updated\": null, \"package_id\": \"c4edbb43-afc2-491c-ac68-f4f327f679dc\", \"webstore_last_updated\": null, \"id\": \"26264abf-8a7e-4373-960a-9c3d62dc8877\", \"size\": null, \"state\": \"active\", \"hash\": \"\", \"description\": \"\", \"format\": \"CSV\", \"tracking_summary\": {\"total\": 0, \"recent\": 0}, \"mimetype_inner\": null, \"url_type\": \"upload\", \"mimetype\": null, \"cache_url\": null, \"name\": \"encuestas_Ibague_2011.csv\", \"created\": \"2015-09-18T01:29:51.467801\", \"url\": \"http://comovamos.eokoe.com/dataset/c4edbb43-afc2-491c-ac68-f4f327f679dc/resource/26264abf-8a7e-4373-960a-9c3d62dc8877/download/encuestasIbague2011.csv\", \"webstore_url\": null, \"last_modified\": null, \"position\": 6, \"revision_id\": \"62a1389b-962e-4397-80ee-5012f0695aa9\", \"resource_type\": null}}\n",
      "encuestas_Ibague_2012.csv\n",
      "{\"help\": \"http://comovamos.eokoe.com/api/3/action/help_show?name=resource_create\", \"success\": true, \"result\": {\"cache_last_updated\": null, \"package_id\": \"c4edbb43-afc2-491c-ac68-f4f327f679dc\", \"webstore_last_updated\": null, \"id\": \"dd7c529c-4859-406e-83fd-828e59af9519\", \"size\": null, \"state\": \"active\", \"hash\": \"\", \"description\": \"\", \"format\": \"CSV\", \"tracking_summary\": {\"total\": 0, \"recent\": 0}, \"mimetype_inner\": null, \"url_type\": \"upload\", \"mimetype\": null, \"cache_url\": null, \"name\": \"encuestas_Ibague_2012.csv\", \"created\": \"2015-09-18T01:30:54.076037\", \"url\": \"http://comovamos.eokoe.com/dataset/c4edbb43-afc2-491c-ac68-f4f327f679dc/resource/dd7c529c-4859-406e-83fd-828e59af9519/download/encuestasIbague2012.csv\", \"webstore_url\": null, \"last_modified\": null, \"position\": 7, \"revision_id\": \"c71abea0-d5ed-4008-8822-0704edeb8732\", \"resource_type\": null}}\n",
      "encuestas_Ibague_2013.csv\n",
      "{\"help\": \"http://comovamos.eokoe.com/api/3/action/help_show?name=resource_create\", \"success\": true, \"result\": {\"cache_last_updated\": null, \"package_id\": \"c4edbb43-afc2-491c-ac68-f4f327f679dc\", \"webstore_last_updated\": null, \"id\": \"c02a7396-5fdc-4ee5-8520-784e249e2065\", \"size\": null, \"state\": \"active\", \"hash\": \"\", \"description\": \"\", \"format\": \"CSV\", \"tracking_summary\": {\"total\": 0, \"recent\": 0}, \"mimetype_inner\": null, \"url_type\": \"upload\", \"mimetype\": null, \"cache_url\": null, \"name\": \"encuestas_Ibague_2013.csv\", \"created\": \"2015-09-18T01:31:59.182137\", \"url\": \"http://comovamos.eokoe.com/dataset/c4edbb43-afc2-491c-ac68-f4f327f679dc/resource/c02a7396-5fdc-4ee5-8520-784e249e2065/download/encuestasIbague2013.csv\", \"webstore_url\": null, \"last_modified\": null, \"position\": 8, \"revision_id\": \"7aa2e724-d97d-40f5-bcd1-dd9af893fd1d\", \"resource_type\": null}}\n",
      "encuestas_Ibague_2014.csv\n",
      "{\"help\": \"http://comovamos.eokoe.com/api/3/action/help_show?name=resource_create\", \"success\": true, \"result\": {\"cache_last_updated\": null, \"package_id\": \"c4edbb43-afc2-491c-ac68-f4f327f679dc\", \"webstore_last_updated\": null, \"id\": \"364eeb1e-212c-4c38-a272-f21eb9e4b804\", \"size\": null, \"state\": \"active\", \"hash\": \"\", \"description\": \"\", \"format\": \"CSV\", \"tracking_summary\": {\"total\": 0, \"recent\": 0}, \"mimetype_inner\": null, \"url_type\": \"upload\", \"mimetype\": null, \"cache_url\": null, \"name\": \"encuestas_Ibague_2014.csv\", \"created\": \"2015-09-18T01:33:05.979323\", \"url\": \"http://comovamos.eokoe.com/dataset/c4edbb43-afc2-491c-ac68-f4f327f679dc/resource/364eeb1e-212c-4c38-a272-f21eb9e4b804/download/encuestasIbague2014.csv\", \"webstore_url\": null, \"last_modified\": null, \"position\": 9, \"revision_id\": \"a053a945-29b0-4807-9cd5-cb51e68ac8a7\", \"resource_type\": null}}\n",
      "archivo_encuestas_Ibague_lote.csv\n",
      "{\"help\": \"http://comovamos.eokoe.com/api/3/action/help_show?name=resource_create\", \"success\": true, \"result\": {\"cache_last_updated\": null, \"package_id\": \"b340a5e8-7eaf-4f6d-9238-f5e00746ea9e\", \"webstore_last_updated\": null, \"id\": \"d56eb304-a918-4307-9eb0-545c31b5a581\", \"size\": null, \"state\": \"active\", \"hash\": \"\", \"description\": \"\", \"format\": \"CSV\", \"tracking_summary\": {\"total\": 0, \"recent\": 0}, \"mimetype_inner\": null, \"url_type\": \"upload\", \"mimetype\": null, \"cache_url\": null, \"name\": \"archivo_encuestas_Ibague_lote.csv\", \"created\": \"2015-09-18T01:34:10.744810\", \"url\": \"http://comovamos.eokoe.com/dataset/b340a5e8-7eaf-4f6d-9238-f5e00746ea9e/resource/d56eb304-a918-4307-9eb0-545c31b5a581/download/archivoencuestasIbaguelote.csv\", \"webstore_url\": null, \"last_modified\": null, \"position\": 0, \"revision_id\": \"5acfe331-be67-46dd-9762-2606bdd5f1fe\", \"resource_type\": null}}\n",
      "diccionario_archivo_encuestas_Ibague_lote.csv\n",
      "{\"help\": \"http://comovamos.eokoe.com/api/3/action/help_show?name=resource_create\", \"success\": true, \"result\": {\"cache_last_updated\": null, \"package_id\": \"b340a5e8-7eaf-4f6d-9238-f5e00746ea9e\", \"webstore_last_updated\": null, \"id\": \"30be387c-7bab-4b19-9ed1-3c8eba2289a5\", \"size\": null, \"state\": \"active\", \"hash\": \"\", \"description\": \"\", \"format\": \"CSV\", \"tracking_summary\": {\"total\": 0, \"recent\": 0}, \"mimetype_inner\": null, \"url_type\": \"upload\", \"mimetype\": null, \"cache_url\": null, \"name\": \"diccionario_archivo_encuestas_Ibague_lote.csv\", \"created\": \"2015-09-18T01:35:12.846641\", \"url\": \"http://comovamos.eokoe.com/dataset/b340a5e8-7eaf-4f6d-9238-f5e00746ea9e/resource/30be387c-7bab-4b19-9ed1-3c8eba2289a5/download/diccionarioarchivoencuestasIbaguelote.csv\", \"webstore_url\": null, \"last_modified\": null, \"position\": 1, \"revision_id\": \"ca6d76e1-498f-4b09-acf7-66679cb8ae4c\", \"resource_type\": null}}\n",
      "diccionario_encuestas_Ibague_lote.csv\n",
      "{\"help\": \"http://comovamos.eokoe.com/api/3/action/help_show?name=resource_create\", \"success\": true, \"result\": {\"cache_last_updated\": null, \"package_id\": \"1c6c36b6-f981-487a-b263-63284a6e756f\", \"webstore_last_updated\": null, \"id\": \"2a96500c-c677-4b46-ab46-21fbfc326e52\", \"size\": null, \"state\": \"active\", \"hash\": \"\", \"description\": \"\", \"format\": \"CSV\", \"tracking_summary\": {\"total\": 0, \"recent\": 0}, \"mimetype_inner\": null, \"url_type\": \"upload\", \"mimetype\": null, \"cache_url\": null, \"name\": \"diccionario_encuestas_Ibague_lote.csv\", \"created\": \"2015-09-18T01:36:15.408844\", \"url\": \"http://comovamos.eokoe.com/dataset/1c6c36b6-f981-487a-b263-63284a6e756f/resource/2a96500c-c677-4b46-ab46-21fbfc326e52/download/diccionarioencuestasIbaguelote.csv\", \"webstore_url\": null, \"last_modified\": null, \"position\": 0, \"revision_id\": \"965d426a-88d0-493f-a12e-b60738bd5f71\", \"resource_type\": null}}\n",
      "encuestas_Ibague_lote.csv\n",
      "{\"help\": \"http://comovamos.eokoe.com/api/3/action/help_show?name=resource_create\", \"success\": true, \"result\": {\"cache_last_updated\": null, \"package_id\": \"1c6c36b6-f981-487a-b263-63284a6e756f\", \"webstore_last_updated\": null, \"id\": \"ea2146d7-d4a5-4224-8757-7ae778efa0ca\", \"size\": null, \"state\": \"active\", \"hash\": \"\", \"description\": \"\", \"format\": \"CSV\", \"tracking_summary\": {\"total\": 0, \"recent\": 0}, \"mimetype_inner\": null, \"url_type\": \"upload\", \"mimetype\": null, \"cache_url\": null, \"name\": \"encuestas_Ibague_lote.csv\", \"created\": \"2015-09-18T01:37:19.875009\", \"url\": \"http://comovamos.eokoe.com/dataset/1c6c36b6-f981-487a-b263-63284a6e756f/resource/ea2146d7-d4a5-4224-8757-7ae778efa0ca/download/encuestasIbaguelote.csv\", \"webstore_url\": null, \"last_modified\": null, \"position\": 1, \"revision_id\": \"3ec2e7ea-c454-4f91-8afc-92cf4e264f0d\", \"resource_type\": null}}\n"
     ]
    }
   ],
   "source": [
    "for organizacion in Lista_organizaciones_loop:\n",
    "    upload_city(organizacion)"
   ]
  },
  {
   "cell_type": "code",
   "execution_count": null,
   "metadata": {
    "collapsed": true
   },
   "outputs": [],
   "source": [
    "r2 = requests.post('http://comovamos.eokoe.com/api/action/resource_create',\n",
    "              data={\"package_id\":\"barranquilla-objetivos\", \"name\":\"lol\"},\n",
    "              headers={\"X-CKAN-API-Key\": APIkey},\n",
    "              files=[('upload', open('barranquilla/objetivos/indicadores_Barranquilla.csv')),('url',\"\")])"
   ]
  },
  {
   "cell_type": "code",
   "execution_count": 54,
   "metadata": {
    "collapsed": false
   },
   "outputs": [
    {
     "name": "stdout",
     "output_type": "stream",
     "text": [
      "objetivos\n",
      "anual\n",
      "archivo\n",
      "lote\n",
      "Done with Datasets\n",
      "diccionario_indicadores_Valledupar.csv\n",
      "{\"help\": \"http://comovamos.eokoe.com/api/3/action/help_show?name=resource_create\", \"success\": true, \"result\": {\"cache_last_updated\": null, \"package_id\": \"f4a247b0-90f5-46ec-92e4-93d57168f3a3\", \"webstore_last_updated\": null, \"id\": \"f4f12e49-ad89-4879-8908-1c7951f2f108\", \"size\": null, \"state\": \"active\", \"hash\": \"\", \"description\": \"\", \"format\": \"CSV\", \"tracking_summary\": {\"total\": 0, \"recent\": 0}, \"mimetype_inner\": null, \"url_type\": \"upload\", \"mimetype\": null, \"cache_url\": null, \"name\": \"diccionario_indicadores_Valledupar.csv\", \"created\": \"2015-09-18T04:19:35.921290\", \"url\": \"http://comovamos.eokoe.com/dataset/f4a247b0-90f5-46ec-92e4-93d57168f3a3/resource/f4f12e49-ad89-4879-8908-1c7951f2f108/download/diccionarioindicadoresValledupar.csv\", \"webstore_url\": null, \"last_modified\": null, \"position\": 2, \"revision_id\": \"f4a75704-4bd0-4739-9d0e-99714cb21547\", \"resource_type\": null}}\n",
      "indicadores_Valledupar.csv\n",
      "{\"help\": \"http://comovamos.eokoe.com/api/3/action/help_show?name=resource_create\", \"success\": true, \"result\": {\"cache_last_updated\": null, \"package_id\": \"f4a247b0-90f5-46ec-92e4-93d57168f3a3\", \"webstore_last_updated\": null, \"id\": \"d52e10bd-50fa-467c-a72e-d7be8ee0548c\", \"size\": null, \"state\": \"active\", \"hash\": \"\", \"description\": \"\", \"format\": \"CSV\", \"tracking_summary\": {\"total\": 0, \"recent\": 0}, \"mimetype_inner\": null, \"url_type\": \"upload\", \"mimetype\": null, \"cache_url\": null, \"name\": \"indicadores_Valledupar.csv\", \"created\": \"2015-09-18T04:20:38.953082\", \"url\": \"http://comovamos.eokoe.com/dataset/f4a247b0-90f5-46ec-92e4-93d57168f3a3/resource/d52e10bd-50fa-467c-a72e-d7be8ee0548c/download/indicadoresValledupar.csv\", \"webstore_url\": null, \"last_modified\": null, \"position\": 3, \"revision_id\": \"39c866f5-5463-4d25-b57f-82fc38fdd40a\", \"resource_type\": null}}\n",
      "diccionario_encuestas_Valledupar_2010.csv\n",
      "{\"help\": \"http://comovamos.eokoe.com/api/3/action/help_show?name=resource_create\", \"success\": true, \"result\": {\"cache_last_updated\": null, \"package_id\": \"64af167c-30c8-44ce-b4b6-286b4a2327ea\", \"webstore_last_updated\": null, \"id\": \"ea734664-fae8-470b-a430-eb4d83fd17a9\", \"size\": null, \"state\": \"active\", \"hash\": \"\", \"description\": \"\", \"format\": \"CSV\", \"tracking_summary\": {\"total\": 0, \"recent\": 0}, \"mimetype_inner\": null, \"url_type\": \"upload\", \"mimetype\": null, \"cache_url\": null, \"name\": \"diccionario_encuestas_Valledupar_2010.csv\", \"created\": \"2015-09-18T04:21:54.404845\", \"url\": \"http://comovamos.eokoe.com/dataset/64af167c-30c8-44ce-b4b6-286b4a2327ea/resource/ea734664-fae8-470b-a430-eb4d83fd17a9/download/diccionarioencuestasValledupar2010.csv\", \"webstore_url\": null, \"last_modified\": null, \"position\": 5, \"revision_id\": \"fd51756a-7ba0-48eb-aabc-10ef4bbb8540\", \"resource_type\": null}}\n",
      "diccionario_encuestas_Valledupar_2011.csv\n",
      "{\"help\": \"http://comovamos.eokoe.com/api/3/action/help_show?name=resource_create\", \"success\": true, \"result\": {\"cache_last_updated\": null, \"package_id\": \"64af167c-30c8-44ce-b4b6-286b4a2327ea\", \"webstore_last_updated\": null, \"id\": \"3fab57a9-d958-4f86-95e1-8a27d137d930\", \"size\": null, \"state\": \"active\", \"hash\": \"\", \"description\": \"\", \"format\": \"CSV\", \"tracking_summary\": {\"total\": 0, \"recent\": 0}, \"mimetype_inner\": null, \"url_type\": \"upload\", \"mimetype\": null, \"cache_url\": null, \"name\": \"diccionario_encuestas_Valledupar_2011.csv\", \"created\": \"2015-09-18T04:23:13.993420\", \"url\": \"http://comovamos.eokoe.com/dataset/64af167c-30c8-44ce-b4b6-286b4a2327ea/resource/3fab57a9-d958-4f86-95e1-8a27d137d930/download/diccionarioencuestasValledupar2011.csv\", \"webstore_url\": null, \"last_modified\": null, \"position\": 6, \"revision_id\": \"09749105-79b8-4dc9-8ecd-8991e559fe16\", \"resource_type\": null}}\n",
      "diccionario_encuestas_Valledupar_2012.csv\n",
      "{\"help\": \"http://comovamos.eokoe.com/api/3/action/help_show?name=resource_create\", \"success\": true, \"result\": {\"cache_last_updated\": null, \"package_id\": \"64af167c-30c8-44ce-b4b6-286b4a2327ea\", \"webstore_last_updated\": null, \"id\": \"09b75171-bd37-44a0-a995-1376e8ff88aa\", \"size\": null, \"state\": \"active\", \"hash\": \"\", \"description\": \"\", \"format\": \"CSV\", \"tracking_summary\": {\"total\": 0, \"recent\": 0}, \"mimetype_inner\": null, \"url_type\": \"upload\", \"mimetype\": null, \"cache_url\": null, \"name\": \"diccionario_encuestas_Valledupar_2012.csv\", \"created\": \"2015-09-18T04:24:29.417015\", \"url\": \"http://comovamos.eokoe.com/dataset/64af167c-30c8-44ce-b4b6-286b4a2327ea/resource/09b75171-bd37-44a0-a995-1376e8ff88aa/download/diccionarioencuestasValledupar2012.csv\", \"webstore_url\": null, \"last_modified\": null, \"position\": 7, \"revision_id\": \"dfb318af-dfd0-4cc4-8d2b-eb2a3aee5243\", \"resource_type\": null}}\n",
      "diccionario_encuestas_Valledupar_2013.csv\n",
      "{\"help\": \"http://comovamos.eokoe.com/api/3/action/help_show?name=resource_create\", \"success\": true, \"result\": {\"cache_last_updated\": null, \"package_id\": \"64af167c-30c8-44ce-b4b6-286b4a2327ea\", \"webstore_last_updated\": null, \"id\": \"7aa9dd9e-f6da-4502-81b3-2a2281883456\", \"size\": null, \"state\": \"active\", \"hash\": \"\", \"description\": \"\", \"format\": \"CSV\", \"tracking_summary\": {\"total\": 0, \"recent\": 0}, \"mimetype_inner\": null, \"url_type\": \"upload\", \"mimetype\": null, \"cache_url\": null, \"name\": \"diccionario_encuestas_Valledupar_2013.csv\", \"created\": \"2015-09-18T04:25:42.256524\", \"url\": \"http://comovamos.eokoe.com/dataset/64af167c-30c8-44ce-b4b6-286b4a2327ea/resource/7aa9dd9e-f6da-4502-81b3-2a2281883456/download/diccionarioencuestasValledupar2013.csv\", \"webstore_url\": null, \"last_modified\": null, \"position\": 8, \"revision_id\": \"9ec5cf59-3a47-4575-b832-c5314f12b4f1\", \"resource_type\": null}}\n",
      "diccionario_encuestas_Valledupar_2014.csv\n",
      "{\"help\": \"http://comovamos.eokoe.com/api/3/action/help_show?name=resource_create\", \"success\": true, \"result\": {\"cache_last_updated\": null, \"package_id\": \"64af167c-30c8-44ce-b4b6-286b4a2327ea\", \"webstore_last_updated\": null, \"id\": \"99e8ce10-1442-43c3-aabe-5b1af1257a2d\", \"size\": null, \"state\": \"active\", \"hash\": \"\", \"description\": \"\", \"format\": \"CSV\", \"tracking_summary\": {\"total\": 0, \"recent\": 0}, \"mimetype_inner\": null, \"url_type\": \"upload\", \"mimetype\": null, \"cache_url\": null, \"name\": \"diccionario_encuestas_Valledupar_2014.csv\", \"created\": \"2015-09-18T04:27:42.658000\", \"url\": \"http://comovamos.eokoe.com/dataset/64af167c-30c8-44ce-b4b6-286b4a2327ea/resource/99e8ce10-1442-43c3-aabe-5b1af1257a2d/download/diccionarioencuestasValledupar2014.csv\", \"webstore_url\": null, \"last_modified\": null, \"position\": 9, \"revision_id\": \"51c5b3e7-797d-42c6-ba5c-c8250db69ff6\", \"resource_type\": null}}\n",
      "encuestas_Valledupar_2010.csv\n",
      "{\"help\": \"http://comovamos.eokoe.com/api/3/action/help_show?name=resource_create\", \"success\": true, \"result\": {\"cache_last_updated\": null, \"package_id\": \"64af167c-30c8-44ce-b4b6-286b4a2327ea\", \"webstore_last_updated\": null, \"id\": \"41f6ba28-0519-446c-8bce-622a77991a81\", \"size\": null, \"state\": \"active\", \"hash\": \"\", \"description\": \"\", \"format\": \"CSV\", \"tracking_summary\": {\"total\": 0, \"recent\": 0}, \"mimetype_inner\": null, \"url_type\": \"upload\", \"mimetype\": null, \"cache_url\": null, \"name\": \"encuestas_Valledupar_2010.csv\", \"created\": \"2015-09-18T04:29:38.648765\", \"url\": \"http://comovamos.eokoe.com/dataset/64af167c-30c8-44ce-b4b6-286b4a2327ea/resource/41f6ba28-0519-446c-8bce-622a77991a81/download/encuestasValledupar2010.csv\", \"webstore_url\": null, \"last_modified\": null, \"position\": 10, \"revision_id\": \"50369cd4-a38a-4450-b309-4e313c3f6c47\", \"resource_type\": null}}\n",
      "encuestas_Valledupar_2011.csv\n",
      "{\"help\": \"http://comovamos.eokoe.com/api/3/action/help_show?name=resource_create\", \"success\": true, \"result\": {\"cache_last_updated\": null, \"package_id\": \"64af167c-30c8-44ce-b4b6-286b4a2327ea\", \"webstore_last_updated\": null, \"id\": \"b73eab65-5433-4e46-b06a-620e84fb1696\", \"size\": null, \"state\": \"active\", \"hash\": \"\", \"description\": \"\", \"format\": \"CSV\", \"tracking_summary\": {\"total\": 0, \"recent\": 0}, \"mimetype_inner\": null, \"url_type\": \"upload\", \"mimetype\": null, \"cache_url\": null, \"name\": \"encuestas_Valledupar_2011.csv\", \"created\": \"2015-09-18T04:31:04.874430\", \"url\": \"http://comovamos.eokoe.com/dataset/64af167c-30c8-44ce-b4b6-286b4a2327ea/resource/b73eab65-5433-4e46-b06a-620e84fb1696/download/encuestasValledupar2011.csv\", \"webstore_url\": null, \"last_modified\": null, \"position\": 11, \"revision_id\": \"f0d59afa-b91c-4e94-a806-5dd6f6282a68\", \"resource_type\": null}}\n",
      "encuestas_Valledupar_2012.csv\n"
     ]
    },
    {
     "ename": "ConnectionError",
     "evalue": "('Connection aborted.', BrokenPipeError(32, 'Broken pipe'))",
     "output_type": "error",
     "traceback": [
      "\u001b[0;31m---------------------------------------------------------------------------\u001b[0m",
      "\u001b[0;31mBrokenPipeError\u001b[0m                           Traceback (most recent call last)",
      "\u001b[0;32m/usr/local/lib/python3.4/site-packages/requests/packages/urllib3/connectionpool.py\u001b[0m in \u001b[0;36murlopen\u001b[0;34m(self, method, url, body, headers, retries, redirect, assert_same_host, timeout, pool_timeout, release_conn, **response_kw)\u001b[0m\n\u001b[1;32m    543\u001b[0m                                                   \u001b[0mtimeout\u001b[0m\u001b[0;34m=\u001b[0m\u001b[0mtimeout_obj\u001b[0m\u001b[0;34m,\u001b[0m\u001b[0;34m\u001b[0m\u001b[0m\n\u001b[0;32m--> 544\u001b[0;31m                                                   body=body, headers=headers)\n\u001b[0m\u001b[1;32m    545\u001b[0m \u001b[0;34m\u001b[0m\u001b[0m\n",
      "\u001b[0;32m/usr/local/lib/python3.4/site-packages/requests/packages/urllib3/connectionpool.py\u001b[0m in \u001b[0;36m_make_request\u001b[0;34m(self, conn, method, url, timeout, **httplib_request_kw)\u001b[0m\n\u001b[1;32m    348\u001b[0m         \u001b[0;31m# urllib3.request. It also calls makefile (recv) on the socket.\u001b[0m\u001b[0;34m\u001b[0m\u001b[0;34m\u001b[0m\u001b[0m\n\u001b[0;32m--> 349\u001b[0;31m         \u001b[0mconn\u001b[0m\u001b[0;34m.\u001b[0m\u001b[0mrequest\u001b[0m\u001b[0;34m(\u001b[0m\u001b[0mmethod\u001b[0m\u001b[0;34m,\u001b[0m \u001b[0murl\u001b[0m\u001b[0;34m,\u001b[0m \u001b[0;34m**\u001b[0m\u001b[0mhttplib_request_kw\u001b[0m\u001b[0;34m)\u001b[0m\u001b[0;34m\u001b[0m\u001b[0m\n\u001b[0m\u001b[1;32m    350\u001b[0m \u001b[0;34m\u001b[0m\u001b[0m\n",
      "\u001b[0;32m/usr/local/Cellar/python3/3.4.1_1/Frameworks/Python.framework/Versions/3.4/lib/python3.4/http/client.py\u001b[0m in \u001b[0;36mrequest\u001b[0;34m(self, method, url, body, headers)\u001b[0m\n\u001b[1;32m   1089\u001b[0m         \u001b[0;34m\"\"\"Send a complete request to the server.\"\"\"\u001b[0m\u001b[0;34m\u001b[0m\u001b[0m\n\u001b[0;32m-> 1090\u001b[0;31m         \u001b[0mself\u001b[0m\u001b[0;34m.\u001b[0m\u001b[0m_send_request\u001b[0m\u001b[0;34m(\u001b[0m\u001b[0mmethod\u001b[0m\u001b[0;34m,\u001b[0m \u001b[0murl\u001b[0m\u001b[0;34m,\u001b[0m \u001b[0mbody\u001b[0m\u001b[0;34m,\u001b[0m \u001b[0mheaders\u001b[0m\u001b[0;34m)\u001b[0m\u001b[0;34m\u001b[0m\u001b[0m\n\u001b[0m\u001b[1;32m   1091\u001b[0m \u001b[0;34m\u001b[0m\u001b[0m\n",
      "\u001b[0;32m/usr/local/Cellar/python3/3.4.1_1/Frameworks/Python.framework/Versions/3.4/lib/python3.4/http/client.py\u001b[0m in \u001b[0;36m_send_request\u001b[0;34m(self, method, url, body, headers)\u001b[0m\n\u001b[1;32m   1127\u001b[0m             \u001b[0mbody\u001b[0m \u001b[0;34m=\u001b[0m \u001b[0mbody\u001b[0m\u001b[0;34m.\u001b[0m\u001b[0mencode\u001b[0m\u001b[0;34m(\u001b[0m\u001b[0;34m'iso-8859-1'\u001b[0m\u001b[0;34m)\u001b[0m\u001b[0;34m\u001b[0m\u001b[0m\n\u001b[0;32m-> 1128\u001b[0;31m         \u001b[0mself\u001b[0m\u001b[0;34m.\u001b[0m\u001b[0mendheaders\u001b[0m\u001b[0;34m(\u001b[0m\u001b[0mbody\u001b[0m\u001b[0;34m)\u001b[0m\u001b[0;34m\u001b[0m\u001b[0m\n\u001b[0m\u001b[1;32m   1129\u001b[0m \u001b[0;34m\u001b[0m\u001b[0m\n",
      "\u001b[0;32m/usr/local/Cellar/python3/3.4.1_1/Frameworks/Python.framework/Versions/3.4/lib/python3.4/http/client.py\u001b[0m in \u001b[0;36mendheaders\u001b[0;34m(self, message_body)\u001b[0m\n\u001b[1;32m   1085\u001b[0m             \u001b[0;32mraise\u001b[0m \u001b[0mCannotSendHeader\u001b[0m\u001b[0;34m(\u001b[0m\u001b[0;34m)\u001b[0m\u001b[0;34m\u001b[0m\u001b[0m\n\u001b[0;32m-> 1086\u001b[0;31m         \u001b[0mself\u001b[0m\u001b[0;34m.\u001b[0m\u001b[0m_send_output\u001b[0m\u001b[0;34m(\u001b[0m\u001b[0mmessage_body\u001b[0m\u001b[0;34m)\u001b[0m\u001b[0;34m\u001b[0m\u001b[0m\n\u001b[0m\u001b[1;32m   1087\u001b[0m \u001b[0;34m\u001b[0m\u001b[0m\n",
      "\u001b[0;32m/usr/local/Cellar/python3/3.4.1_1/Frameworks/Python.framework/Versions/3.4/lib/python3.4/http/client.py\u001b[0m in \u001b[0;36m_send_output\u001b[0;34m(self, message_body)\u001b[0m\n\u001b[1;32m    927\u001b[0m             \u001b[0;31m# we must run the risk of Nagle.\u001b[0m\u001b[0;34m\u001b[0m\u001b[0;34m\u001b[0m\u001b[0m\n\u001b[0;32m--> 928\u001b[0;31m             \u001b[0mself\u001b[0m\u001b[0;34m.\u001b[0m\u001b[0msend\u001b[0m\u001b[0;34m(\u001b[0m\u001b[0mmessage_body\u001b[0m\u001b[0;34m)\u001b[0m\u001b[0;34m\u001b[0m\u001b[0m\n\u001b[0m\u001b[1;32m    929\u001b[0m \u001b[0;34m\u001b[0m\u001b[0m\n",
      "\u001b[0;32m/usr/local/Cellar/python3/3.4.1_1/Frameworks/Python.framework/Versions/3.4/lib/python3.4/http/client.py\u001b[0m in \u001b[0;36msend\u001b[0;34m(self, data)\u001b[0m\n\u001b[1;32m    889\u001b[0m         \u001b[0;32mtry\u001b[0m\u001b[0;34m:\u001b[0m\u001b[0;34m\u001b[0m\u001b[0m\n\u001b[0;32m--> 890\u001b[0;31m             \u001b[0mself\u001b[0m\u001b[0;34m.\u001b[0m\u001b[0msock\u001b[0m\u001b[0;34m.\u001b[0m\u001b[0msendall\u001b[0m\u001b[0;34m(\u001b[0m\u001b[0mdata\u001b[0m\u001b[0;34m)\u001b[0m\u001b[0;34m\u001b[0m\u001b[0m\n\u001b[0m\u001b[1;32m    891\u001b[0m         \u001b[0;32mexcept\u001b[0m \u001b[0mTypeError\u001b[0m\u001b[0;34m:\u001b[0m\u001b[0;34m\u001b[0m\u001b[0m\n",
      "\u001b[0;31mBrokenPipeError\u001b[0m: [Errno 32] Broken pipe",
      "\nDuring handling of the above exception, another exception occurred:\n",
      "\u001b[0;31mProtocolError\u001b[0m                             Traceback (most recent call last)",
      "\u001b[0;32m/usr/local/lib/python3.4/site-packages/requests/adapters.py\u001b[0m in \u001b[0;36msend\u001b[0;34m(self, request, stream, timeout, verify, cert, proxies)\u001b[0m\n\u001b[1;32m    369\u001b[0m                     \u001b[0mretries\u001b[0m\u001b[0;34m=\u001b[0m\u001b[0mself\u001b[0m\u001b[0;34m.\u001b[0m\u001b[0mmax_retries\u001b[0m\u001b[0;34m,\u001b[0m\u001b[0;34m\u001b[0m\u001b[0m\n\u001b[0;32m--> 370\u001b[0;31m                     \u001b[0mtimeout\u001b[0m\u001b[0;34m=\u001b[0m\u001b[0mtimeout\u001b[0m\u001b[0;34m\u001b[0m\u001b[0m\n\u001b[0m\u001b[1;32m    371\u001b[0m                 )\n",
      "\u001b[0;32m/usr/local/lib/python3.4/site-packages/requests/packages/urllib3/connectionpool.py\u001b[0m in \u001b[0;36murlopen\u001b[0;34m(self, method, url, body, headers, retries, redirect, assert_same_host, timeout, pool_timeout, release_conn, **response_kw)\u001b[0m\n\u001b[1;32m    596\u001b[0m             retries = retries.increment(method, url, error=e, _pool=self,\n\u001b[0;32m--> 597\u001b[0;31m                                         _stacktrace=sys.exc_info()[2])\n\u001b[0m\u001b[1;32m    598\u001b[0m             \u001b[0mretries\u001b[0m\u001b[0;34m.\u001b[0m\u001b[0msleep\u001b[0m\u001b[0;34m(\u001b[0m\u001b[0;34m)\u001b[0m\u001b[0;34m\u001b[0m\u001b[0m\n",
      "\u001b[0;32m/usr/local/lib/python3.4/site-packages/requests/packages/urllib3/util/retry.py\u001b[0m in \u001b[0;36mincrement\u001b[0;34m(self, method, url, response, error, _pool, _stacktrace)\u001b[0m\n\u001b[1;32m    244\u001b[0m             \u001b[0;32mif\u001b[0m \u001b[0mread\u001b[0m \u001b[0;32mis\u001b[0m \u001b[0;32mFalse\u001b[0m\u001b[0;34m:\u001b[0m\u001b[0;34m\u001b[0m\u001b[0m\n\u001b[0;32m--> 245\u001b[0;31m                 \u001b[0;32mraise\u001b[0m \u001b[0msix\u001b[0m\u001b[0;34m.\u001b[0m\u001b[0mreraise\u001b[0m\u001b[0;34m(\u001b[0m\u001b[0mtype\u001b[0m\u001b[0;34m(\u001b[0m\u001b[0merror\u001b[0m\u001b[0;34m)\u001b[0m\u001b[0;34m,\u001b[0m \u001b[0merror\u001b[0m\u001b[0;34m,\u001b[0m \u001b[0m_stacktrace\u001b[0m\u001b[0;34m)\u001b[0m\u001b[0;34m\u001b[0m\u001b[0m\n\u001b[0m\u001b[1;32m    246\u001b[0m             \u001b[0;32melif\u001b[0m \u001b[0mread\u001b[0m \u001b[0;32mis\u001b[0m \u001b[0;32mnot\u001b[0m \u001b[0;32mNone\u001b[0m\u001b[0;34m:\u001b[0m\u001b[0;34m\u001b[0m\u001b[0m\n",
      "\u001b[0;32m/usr/local/lib/python3.4/site-packages/requests/packages/urllib3/packages/six.py\u001b[0m in \u001b[0;36mreraise\u001b[0;34m(tp, value, tb)\u001b[0m\n\u001b[1;32m    308\u001b[0m         \u001b[0;32mif\u001b[0m \u001b[0mvalue\u001b[0m\u001b[0;34m.\u001b[0m\u001b[0m__traceback__\u001b[0m \u001b[0;32mis\u001b[0m \u001b[0;32mnot\u001b[0m \u001b[0mtb\u001b[0m\u001b[0;34m:\u001b[0m\u001b[0;34m\u001b[0m\u001b[0m\n\u001b[0;32m--> 309\u001b[0;31m             \u001b[0;32mraise\u001b[0m \u001b[0mvalue\u001b[0m\u001b[0;34m.\u001b[0m\u001b[0mwith_traceback\u001b[0m\u001b[0;34m(\u001b[0m\u001b[0mtb\u001b[0m\u001b[0;34m)\u001b[0m\u001b[0;34m\u001b[0m\u001b[0m\n\u001b[0m\u001b[1;32m    310\u001b[0m         \u001b[0;32mraise\u001b[0m \u001b[0mvalue\u001b[0m\u001b[0;34m\u001b[0m\u001b[0m\n",
      "\u001b[0;32m/usr/local/lib/python3.4/site-packages/requests/packages/urllib3/connectionpool.py\u001b[0m in \u001b[0;36murlopen\u001b[0;34m(self, method, url, body, headers, retries, redirect, assert_same_host, timeout, pool_timeout, release_conn, **response_kw)\u001b[0m\n\u001b[1;32m    543\u001b[0m                                                   \u001b[0mtimeout\u001b[0m\u001b[0;34m=\u001b[0m\u001b[0mtimeout_obj\u001b[0m\u001b[0;34m,\u001b[0m\u001b[0;34m\u001b[0m\u001b[0m\n\u001b[0;32m--> 544\u001b[0;31m                                                   body=body, headers=headers)\n\u001b[0m\u001b[1;32m    545\u001b[0m \u001b[0;34m\u001b[0m\u001b[0m\n",
      "\u001b[0;32m/usr/local/lib/python3.4/site-packages/requests/packages/urllib3/connectionpool.py\u001b[0m in \u001b[0;36m_make_request\u001b[0;34m(self, conn, method, url, timeout, **httplib_request_kw)\u001b[0m\n\u001b[1;32m    348\u001b[0m         \u001b[0;31m# urllib3.request. It also calls makefile (recv) on the socket.\u001b[0m\u001b[0;34m\u001b[0m\u001b[0;34m\u001b[0m\u001b[0m\n\u001b[0;32m--> 349\u001b[0;31m         \u001b[0mconn\u001b[0m\u001b[0;34m.\u001b[0m\u001b[0mrequest\u001b[0m\u001b[0;34m(\u001b[0m\u001b[0mmethod\u001b[0m\u001b[0;34m,\u001b[0m \u001b[0murl\u001b[0m\u001b[0;34m,\u001b[0m \u001b[0;34m**\u001b[0m\u001b[0mhttplib_request_kw\u001b[0m\u001b[0;34m)\u001b[0m\u001b[0;34m\u001b[0m\u001b[0m\n\u001b[0m\u001b[1;32m    350\u001b[0m \u001b[0;34m\u001b[0m\u001b[0m\n",
      "\u001b[0;32m/usr/local/Cellar/python3/3.4.1_1/Frameworks/Python.framework/Versions/3.4/lib/python3.4/http/client.py\u001b[0m in \u001b[0;36mrequest\u001b[0;34m(self, method, url, body, headers)\u001b[0m\n\u001b[1;32m   1089\u001b[0m         \u001b[0;34m\"\"\"Send a complete request to the server.\"\"\"\u001b[0m\u001b[0;34m\u001b[0m\u001b[0m\n\u001b[0;32m-> 1090\u001b[0;31m         \u001b[0mself\u001b[0m\u001b[0;34m.\u001b[0m\u001b[0m_send_request\u001b[0m\u001b[0;34m(\u001b[0m\u001b[0mmethod\u001b[0m\u001b[0;34m,\u001b[0m \u001b[0murl\u001b[0m\u001b[0;34m,\u001b[0m \u001b[0mbody\u001b[0m\u001b[0;34m,\u001b[0m \u001b[0mheaders\u001b[0m\u001b[0;34m)\u001b[0m\u001b[0;34m\u001b[0m\u001b[0m\n\u001b[0m\u001b[1;32m   1091\u001b[0m \u001b[0;34m\u001b[0m\u001b[0m\n",
      "\u001b[0;32m/usr/local/Cellar/python3/3.4.1_1/Frameworks/Python.framework/Versions/3.4/lib/python3.4/http/client.py\u001b[0m in \u001b[0;36m_send_request\u001b[0;34m(self, method, url, body, headers)\u001b[0m\n\u001b[1;32m   1127\u001b[0m             \u001b[0mbody\u001b[0m \u001b[0;34m=\u001b[0m \u001b[0mbody\u001b[0m\u001b[0;34m.\u001b[0m\u001b[0mencode\u001b[0m\u001b[0;34m(\u001b[0m\u001b[0;34m'iso-8859-1'\u001b[0m\u001b[0;34m)\u001b[0m\u001b[0;34m\u001b[0m\u001b[0m\n\u001b[0;32m-> 1128\u001b[0;31m         \u001b[0mself\u001b[0m\u001b[0;34m.\u001b[0m\u001b[0mendheaders\u001b[0m\u001b[0;34m(\u001b[0m\u001b[0mbody\u001b[0m\u001b[0;34m)\u001b[0m\u001b[0;34m\u001b[0m\u001b[0m\n\u001b[0m\u001b[1;32m   1129\u001b[0m \u001b[0;34m\u001b[0m\u001b[0m\n",
      "\u001b[0;32m/usr/local/Cellar/python3/3.4.1_1/Frameworks/Python.framework/Versions/3.4/lib/python3.4/http/client.py\u001b[0m in \u001b[0;36mendheaders\u001b[0;34m(self, message_body)\u001b[0m\n\u001b[1;32m   1085\u001b[0m             \u001b[0;32mraise\u001b[0m \u001b[0mCannotSendHeader\u001b[0m\u001b[0;34m(\u001b[0m\u001b[0;34m)\u001b[0m\u001b[0;34m\u001b[0m\u001b[0m\n\u001b[0;32m-> 1086\u001b[0;31m         \u001b[0mself\u001b[0m\u001b[0;34m.\u001b[0m\u001b[0m_send_output\u001b[0m\u001b[0;34m(\u001b[0m\u001b[0mmessage_body\u001b[0m\u001b[0;34m)\u001b[0m\u001b[0;34m\u001b[0m\u001b[0m\n\u001b[0m\u001b[1;32m   1087\u001b[0m \u001b[0;34m\u001b[0m\u001b[0m\n",
      "\u001b[0;32m/usr/local/Cellar/python3/3.4.1_1/Frameworks/Python.framework/Versions/3.4/lib/python3.4/http/client.py\u001b[0m in \u001b[0;36m_send_output\u001b[0;34m(self, message_body)\u001b[0m\n\u001b[1;32m    927\u001b[0m             \u001b[0;31m# we must run the risk of Nagle.\u001b[0m\u001b[0;34m\u001b[0m\u001b[0;34m\u001b[0m\u001b[0m\n\u001b[0;32m--> 928\u001b[0;31m             \u001b[0mself\u001b[0m\u001b[0;34m.\u001b[0m\u001b[0msend\u001b[0m\u001b[0;34m(\u001b[0m\u001b[0mmessage_body\u001b[0m\u001b[0;34m)\u001b[0m\u001b[0;34m\u001b[0m\u001b[0m\n\u001b[0m\u001b[1;32m    929\u001b[0m \u001b[0;34m\u001b[0m\u001b[0m\n",
      "\u001b[0;32m/usr/local/Cellar/python3/3.4.1_1/Frameworks/Python.framework/Versions/3.4/lib/python3.4/http/client.py\u001b[0m in \u001b[0;36msend\u001b[0;34m(self, data)\u001b[0m\n\u001b[1;32m    889\u001b[0m         \u001b[0;32mtry\u001b[0m\u001b[0;34m:\u001b[0m\u001b[0;34m\u001b[0m\u001b[0m\n\u001b[0;32m--> 890\u001b[0;31m             \u001b[0mself\u001b[0m\u001b[0;34m.\u001b[0m\u001b[0msock\u001b[0m\u001b[0;34m.\u001b[0m\u001b[0msendall\u001b[0m\u001b[0;34m(\u001b[0m\u001b[0mdata\u001b[0m\u001b[0;34m)\u001b[0m\u001b[0;34m\u001b[0m\u001b[0m\n\u001b[0m\u001b[1;32m    891\u001b[0m         \u001b[0;32mexcept\u001b[0m \u001b[0mTypeError\u001b[0m\u001b[0;34m:\u001b[0m\u001b[0;34m\u001b[0m\u001b[0m\n",
      "\u001b[0;31mProtocolError\u001b[0m: ('Connection aborted.', BrokenPipeError(32, 'Broken pipe'))",
      "\nDuring handling of the above exception, another exception occurred:\n",
      "\u001b[0;31mConnectionError\u001b[0m                           Traceback (most recent call last)",
      "\u001b[0;32m<ipython-input-54-aa24d17a6c71>\u001b[0m in \u001b[0;36m<module>\u001b[0;34m()\u001b[0m\n\u001b[0;32m----> 1\u001b[0;31m \u001b[0mupload_city\u001b[0m\u001b[0;34m(\u001b[0m\u001b[0;34m\"valledupar\"\u001b[0m\u001b[0;34m)\u001b[0m\u001b[0;34m\u001b[0m\u001b[0m\n\u001b[0m",
      "\u001b[0;32m<ipython-input-6-1d9d8a0484ea>\u001b[0m in \u001b[0;36mupload_city\u001b[0;34m(ciudad)\u001b[0m\n\u001b[1;32m      5\u001b[0m     \u001b[0mprint\u001b[0m\u001b[0;34m(\u001b[0m\u001b[0;34m\"Done with Datasets\"\u001b[0m\u001b[0;34m)\u001b[0m\u001b[0;34m\u001b[0m\u001b[0m\n\u001b[1;32m      6\u001b[0m     \u001b[0;31m#subir recursos en directorio\u001b[0m\u001b[0;34m\u001b[0m\u001b[0;34m\u001b[0m\u001b[0m\n\u001b[0;32m----> 7\u001b[0;31m     \u001b[0mgenerate_city_resources\u001b[0m\u001b[0;34m(\u001b[0m\u001b[0mciudad\u001b[0m\u001b[0;34m,\u001b[0m\u001b[0mtipos_datos\u001b[0m\u001b[0;34m,\u001b[0m\u001b[0mid_datasets\u001b[0m\u001b[0;34m)\u001b[0m\u001b[0;34m\u001b[0m\u001b[0m\n\u001b[0m\u001b[1;32m      8\u001b[0m     \u001b[0;32mreturn\u001b[0m \u001b[0mciudad\u001b[0m\u001b[0;34m\u001b[0m\u001b[0m\n",
      "\u001b[0;32m<ipython-input-8-8f2789319a0c>\u001b[0m in \u001b[0;36mgenerate_city_resources\u001b[0;34m(ciudad, tipos_datos, id_datasets)\u001b[0m\n\u001b[1;32m      8\u001b[0m         \u001b[0;32mfor\u001b[0m \u001b[0mfile\u001b[0m \u001b[0;32min\u001b[0m \u001b[0mfiles_inpath\u001b[0m\u001b[0;34m:\u001b[0m\u001b[0;34m\u001b[0m\u001b[0m\n\u001b[1;32m      9\u001b[0m             \u001b[0mprint\u001b[0m\u001b[0;34m(\u001b[0m\u001b[0mfile\u001b[0m\u001b[0;34m)\u001b[0m\u001b[0;34m\u001b[0m\u001b[0m\n\u001b[0;32m---> 10\u001b[0;31m             \u001b[0mgenerate_resource\u001b[0m\u001b[0;34m(\u001b[0m\u001b[0mid_datasets\u001b[0m\u001b[0;34m[\u001b[0m\u001b[0mi\u001b[0m\u001b[0;34m]\u001b[0m\u001b[0;34m,\u001b[0m\u001b[0mfile\u001b[0m\u001b[0;34m,\u001b[0m\u001b[0mfile_path\u001b[0m\u001b[0;34m)\u001b[0m\u001b[0;34m\u001b[0m\u001b[0m\n\u001b[0m\u001b[1;32m     11\u001b[0m             \u001b[0msleep\u001b[0m\u001b[0;34m(\u001b[0m\u001b[0;36m60\u001b[0m\u001b[0;34m)\u001b[0m\u001b[0;34m\u001b[0m\u001b[0m\n\u001b[1;32m     12\u001b[0m         \u001b[0mi\u001b[0m \u001b[0;34m=\u001b[0m \u001b[0mi\u001b[0m \u001b[0;34m+\u001b[0m \u001b[0;36m1\u001b[0m\u001b[0;34m\u001b[0m\u001b[0m\n",
      "\u001b[0;32m<ipython-input-21-c7ce323aafda>\u001b[0m in \u001b[0;36mgenerate_resource\u001b[0;34m(dataset_name, resource_name, file_path)\u001b[0m\n\u001b[1;32m      4\u001b[0m                   \u001b[0mdata\u001b[0m\u001b[0;34m=\u001b[0m\u001b[0;34m{\u001b[0m\u001b[0;34m\"package_id\"\u001b[0m\u001b[0;34m:\u001b[0m\u001b[0mdataset_name\u001b[0m\u001b[0;34m,\u001b[0m \u001b[0;34m\"name\"\u001b[0m\u001b[0;34m:\u001b[0m\u001b[0mresource_name\u001b[0m\u001b[0;34m}\u001b[0m\u001b[0;34m,\u001b[0m\u001b[0;34m\u001b[0m\u001b[0m\n\u001b[1;32m      5\u001b[0m                   \u001b[0mheaders\u001b[0m\u001b[0;34m=\u001b[0m\u001b[0;34m{\u001b[0m\u001b[0;34m\"X-CKAN-API-Key\"\u001b[0m\u001b[0;34m:\u001b[0m \u001b[0mAPIkey\u001b[0m\u001b[0;34m}\u001b[0m\u001b[0;34m,\u001b[0m\u001b[0;34m\u001b[0m\u001b[0m\n\u001b[0;32m----> 6\u001b[0;31m                   files=[('upload', open(full_filepath)),('url',\"\")])\n\u001b[0m\u001b[1;32m      7\u001b[0m     \u001b[0mprint\u001b[0m\u001b[0;34m(\u001b[0m\u001b[0mr2\u001b[0m\u001b[0;34m.\u001b[0m\u001b[0mtext\u001b[0m\u001b[0;34m)\u001b[0m\u001b[0;34m\u001b[0m\u001b[0m\n\u001b[1;32m      8\u001b[0m     \u001b[0;32mreturn\u001b[0m \u001b[0mresource_name\u001b[0m\u001b[0;34m\u001b[0m\u001b[0m\n",
      "\u001b[0;32m/usr/local/lib/python3.4/site-packages/requests/api.py\u001b[0m in \u001b[0;36mpost\u001b[0;34m(url, data, json, **kwargs)\u001b[0m\n\u001b[1;32m    106\u001b[0m     \"\"\"\n\u001b[1;32m    107\u001b[0m \u001b[0;34m\u001b[0m\u001b[0m\n\u001b[0;32m--> 108\u001b[0;31m     \u001b[0;32mreturn\u001b[0m \u001b[0mrequest\u001b[0m\u001b[0;34m(\u001b[0m\u001b[0;34m'post'\u001b[0m\u001b[0;34m,\u001b[0m \u001b[0murl\u001b[0m\u001b[0;34m,\u001b[0m \u001b[0mdata\u001b[0m\u001b[0;34m=\u001b[0m\u001b[0mdata\u001b[0m\u001b[0;34m,\u001b[0m \u001b[0mjson\u001b[0m\u001b[0;34m=\u001b[0m\u001b[0mjson\u001b[0m\u001b[0;34m,\u001b[0m \u001b[0;34m**\u001b[0m\u001b[0mkwargs\u001b[0m\u001b[0;34m)\u001b[0m\u001b[0;34m\u001b[0m\u001b[0m\n\u001b[0m\u001b[1;32m    109\u001b[0m \u001b[0;34m\u001b[0m\u001b[0m\n\u001b[1;32m    110\u001b[0m \u001b[0;34m\u001b[0m\u001b[0m\n",
      "\u001b[0;32m/usr/local/lib/python3.4/site-packages/requests/api.py\u001b[0m in \u001b[0;36mrequest\u001b[0;34m(method, url, **kwargs)\u001b[0m\n\u001b[1;32m     48\u001b[0m \u001b[0;34m\u001b[0m\u001b[0m\n\u001b[1;32m     49\u001b[0m     \u001b[0msession\u001b[0m \u001b[0;34m=\u001b[0m \u001b[0msessions\u001b[0m\u001b[0;34m.\u001b[0m\u001b[0mSession\u001b[0m\u001b[0;34m(\u001b[0m\u001b[0;34m)\u001b[0m\u001b[0;34m\u001b[0m\u001b[0m\n\u001b[0;32m---> 50\u001b[0;31m     \u001b[0mresponse\u001b[0m \u001b[0;34m=\u001b[0m \u001b[0msession\u001b[0m\u001b[0;34m.\u001b[0m\u001b[0mrequest\u001b[0m\u001b[0;34m(\u001b[0m\u001b[0mmethod\u001b[0m\u001b[0;34m=\u001b[0m\u001b[0mmethod\u001b[0m\u001b[0;34m,\u001b[0m \u001b[0murl\u001b[0m\u001b[0;34m=\u001b[0m\u001b[0murl\u001b[0m\u001b[0;34m,\u001b[0m \u001b[0;34m**\u001b[0m\u001b[0mkwargs\u001b[0m\u001b[0;34m)\u001b[0m\u001b[0;34m\u001b[0m\u001b[0m\n\u001b[0m\u001b[1;32m     51\u001b[0m     \u001b[0;31m# By explicitly closing the session, we avoid leaving sockets open which\u001b[0m\u001b[0;34m\u001b[0m\u001b[0;34m\u001b[0m\u001b[0m\n\u001b[1;32m     52\u001b[0m     \u001b[0;31m# can trigger a ResourceWarning in some cases, and look like a memory leak\u001b[0m\u001b[0;34m\u001b[0m\u001b[0;34m\u001b[0m\u001b[0m\n",
      "\u001b[0;32m/usr/local/lib/python3.4/site-packages/requests/sessions.py\u001b[0m in \u001b[0;36mrequest\u001b[0;34m(self, method, url, params, data, headers, cookies, files, auth, timeout, allow_redirects, proxies, hooks, stream, verify, cert, json)\u001b[0m\n\u001b[1;32m    463\u001b[0m         }\n\u001b[1;32m    464\u001b[0m         \u001b[0msend_kwargs\u001b[0m\u001b[0;34m.\u001b[0m\u001b[0mupdate\u001b[0m\u001b[0;34m(\u001b[0m\u001b[0msettings\u001b[0m\u001b[0;34m)\u001b[0m\u001b[0;34m\u001b[0m\u001b[0m\n\u001b[0;32m--> 465\u001b[0;31m         \u001b[0mresp\u001b[0m \u001b[0;34m=\u001b[0m \u001b[0mself\u001b[0m\u001b[0;34m.\u001b[0m\u001b[0msend\u001b[0m\u001b[0;34m(\u001b[0m\u001b[0mprep\u001b[0m\u001b[0;34m,\u001b[0m \u001b[0;34m**\u001b[0m\u001b[0msend_kwargs\u001b[0m\u001b[0;34m)\u001b[0m\u001b[0;34m\u001b[0m\u001b[0m\n\u001b[0m\u001b[1;32m    466\u001b[0m \u001b[0;34m\u001b[0m\u001b[0m\n\u001b[1;32m    467\u001b[0m         \u001b[0;32mreturn\u001b[0m \u001b[0mresp\u001b[0m\u001b[0;34m\u001b[0m\u001b[0m\n",
      "\u001b[0;32m/usr/local/lib/python3.4/site-packages/requests/sessions.py\u001b[0m in \u001b[0;36msend\u001b[0;34m(self, request, **kwargs)\u001b[0m\n\u001b[1;32m    571\u001b[0m \u001b[0;34m\u001b[0m\u001b[0m\n\u001b[1;32m    572\u001b[0m         \u001b[0;31m# Send the request\u001b[0m\u001b[0;34m\u001b[0m\u001b[0;34m\u001b[0m\u001b[0m\n\u001b[0;32m--> 573\u001b[0;31m         \u001b[0mr\u001b[0m \u001b[0;34m=\u001b[0m \u001b[0madapter\u001b[0m\u001b[0;34m.\u001b[0m\u001b[0msend\u001b[0m\u001b[0;34m(\u001b[0m\u001b[0mrequest\u001b[0m\u001b[0;34m,\u001b[0m \u001b[0;34m**\u001b[0m\u001b[0mkwargs\u001b[0m\u001b[0;34m)\u001b[0m\u001b[0;34m\u001b[0m\u001b[0m\n\u001b[0m\u001b[1;32m    574\u001b[0m \u001b[0;34m\u001b[0m\u001b[0m\n\u001b[1;32m    575\u001b[0m         \u001b[0;31m# Total elapsed time of the request (approximately)\u001b[0m\u001b[0;34m\u001b[0m\u001b[0;34m\u001b[0m\u001b[0m\n",
      "\u001b[0;32m/usr/local/lib/python3.4/site-packages/requests/adapters.py\u001b[0m in \u001b[0;36msend\u001b[0;34m(self, request, stream, timeout, verify, cert, proxies)\u001b[0m\n\u001b[1;32m    413\u001b[0m \u001b[0;34m\u001b[0m\u001b[0m\n\u001b[1;32m    414\u001b[0m         \u001b[0;32mexcept\u001b[0m \u001b[0;34m(\u001b[0m\u001b[0mProtocolError\u001b[0m\u001b[0;34m,\u001b[0m \u001b[0msocket\u001b[0m\u001b[0;34m.\u001b[0m\u001b[0merror\u001b[0m\u001b[0;34m)\u001b[0m \u001b[0;32mas\u001b[0m \u001b[0merr\u001b[0m\u001b[0;34m:\u001b[0m\u001b[0;34m\u001b[0m\u001b[0m\n\u001b[0;32m--> 415\u001b[0;31m             \u001b[0;32mraise\u001b[0m \u001b[0mConnectionError\u001b[0m\u001b[0;34m(\u001b[0m\u001b[0merr\u001b[0m\u001b[0;34m,\u001b[0m \u001b[0mrequest\u001b[0m\u001b[0;34m=\u001b[0m\u001b[0mrequest\u001b[0m\u001b[0;34m)\u001b[0m\u001b[0;34m\u001b[0m\u001b[0m\n\u001b[0m\u001b[1;32m    416\u001b[0m \u001b[0;34m\u001b[0m\u001b[0m\n\u001b[1;32m    417\u001b[0m         \u001b[0;32mexcept\u001b[0m \u001b[0mMaxRetryError\u001b[0m \u001b[0;32mas\u001b[0m \u001b[0me\u001b[0m\u001b[0;34m:\u001b[0m\u001b[0;34m\u001b[0m\u001b[0m\n",
      "\u001b[0;31mConnectionError\u001b[0m: ('Connection aborted.', BrokenPipeError(32, 'Broken pipe'))"
     ]
    }
   ],
   "source": [
    "upload_city(\"valledupar\")"
   ]
  },
  {
   "cell_type": "code",
   "execution_count": null,
   "metadata": {
    "collapsed": true
   },
   "outputs": [],
   "source": []
  }
 ],
 "metadata": {
  "kernelspec": {
   "display_name": "Python 3",
   "language": "python",
   "name": "python3"
  },
  "language_info": {
   "codemirror_mode": {
    "name": "ipython",
    "version": 3
   },
   "file_extension": ".py",
   "mimetype": "text/x-python",
   "name": "python",
   "nbconvert_exporter": "python",
   "pygments_lexer": "ipython3",
   "version": "3.4.1"
  }
 },
 "nbformat": 4,
 "nbformat_minor": 0
}
